{
 "metadata": {
  "name": "",
  "signature": "sha256:44b2ae012b7636a41b2d203726ff9d513e0f5e5e4b0a4de77cac6dcc64405b7b"
 },
 "nbformat": 3,
 "nbformat_minor": 0,
 "worksheets": [
  {
   "cells": [
    {
     "cell_type": "markdown",
     "metadata": {},
     "source": [
      "###BrainHacks: PCA and K-means\n",
      "\n",
      "In the first part of the code, PCA was applied to the data. The data was previously z-scored. This particular data was masked using the \"*Harvox Heschls*\" mask and then processed."
     ]
    },
    {
     "cell_type": "code",
     "collapsed": false,
     "input": [
      "#PCA\n",
      "d=np.load(\"dataMask2.npy\")\n",
      "pca = PCA(n_components=2)\n",
      "pca.fit(d)\n",
      "dpca=pca.transform(d)\n",
      "\n",
      "plt.scatter(dpca[:,0], dpca[:,1], marker='o', color='b')"
     ],
     "language": "python",
     "metadata": {},
     "outputs": [
      {
       "metadata": {},
       "output_type": "pyout",
       "prompt_number": 3,
       "text": [
        "<matplotlib.collections.PathCollection at 0x14a42128>"
       ]
      },
      {
       "metadata": {},
       "output_type": "display_data",
       "png": "[encoded data removed]",
       "text": [
        "<matplotlib.figure.Figure at 0x14656f28>"
       ]
      }
     ],
     "prompt_number": 3
    },
    {
     "cell_type": "markdown",
     "metadata": {},
     "source": [
      "* Using only two components, we can distinguish 5 perfectly separated clusters.  \n",
      "The next step is to see what covariates match with these clusters."
     ]
    },
    {
     "cell_type": "markdown",
     "metadata": {},
     "source": [
      "- We applied k-means with two-clusters to see if they may match with the musician/non-musician covariate  \n"
     ]
    },
    {
     "cell_type": "code",
     "collapsed": false,
     "input": [
      "#K-means\n",
      "idx, ctrs = kmeans(dpca, 2)\n",
      "\n",
      "plt.scatter(dpca[(idx==0),0], dpca[(idx==0),1], marker='o', color='r')\n",
      "plt.scatter(dpca[(idx==1),0], dpca[(idx==1),1], marker='o', color='b')\n",
      "plt.scatter(ctrs[:,0], ctrs[:,1], marker='o', color='k', linewidths=5)"
     ],
     "language": "python",
     "metadata": {},
     "outputs": [
      {
       "metadata": {},
       "output_type": "pyout",
       "prompt_number": 4,
       "text": [
        "<matplotlib.collections.PathCollection at 0x14ada4a8>"
       ]
      },
      {
       "metadata": {},
       "output_type": "display_data",
       "png": "[encoded data removed]",
       "text": [
        "<matplotlib.figure.Figure at 0x99057b8>"
       ]
      }
     ],
     "prompt_number": 4
    },
    {
     "cell_type": "code",
     "collapsed": false,
     "input": [
      "#...work in pregress (Imane, do this next)"
     ],
     "language": "python",
     "metadata": {},
     "outputs": []
    }
   ],
   "metadata": {}
  }
 ]
}